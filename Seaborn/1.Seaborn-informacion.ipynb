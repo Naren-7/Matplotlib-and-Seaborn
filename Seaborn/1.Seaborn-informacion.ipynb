{
 "cells": [
  {
   "cell_type": "markdown",
   "metadata": {},
   "source": [
    "## **Seaborn**\n",
    "- Escrita por **Michael Waskom.**\n",
    "\n",
    "- Esta **construida sobre Matplotlib** por lo que **hereda todas las bondades de la misma.**\n",
    "\n",
    "- Integrada para **estructuras de Pandas** por lo que esta **optimizada para funcionar con dataFrames.**\n",
    "\n",
    "\n"
   ]
  },
  {
   "cell_type": "markdown",
   "metadata": {},
   "source": [
    "-----\n",
    "## **Ventajas**\n",
    "- Velocidad.\n",
    "- Poco codigo.\n",
    "- Altamente customizable a nivel de graficas y visualizaciones.\n",
    "\n",
    "### **Estructura Basica**\n",
    "```\n",
    "sns.'Tipo de Grafica'(\n",
    "\n",
    "\t\tdata='Dataset',\n",
    "\n",
    "\t\t x='Data en el eje x',\n",
    "\n",
    "\t\t y='Data en el eje y',\n",
    "\t\t \n",
    "\t\t hue='Variable de agrupamiento'\n",
    "\t\t \n",
    "\t\t )\n",
    "```"
   ]
  },
  {
   "cell_type": "markdown",
   "metadata": {},
   "source": [
    "----\n",
    "## **Tipos de Graficas**\n",
    "- **relplot** (**relacional**): scatterplot, lineplot.\n",
    "\n",
    "- **displot** (**distribuciones**): histplot, kdeplot, ecdfplot, rugplot.\n",
    "\n",
    "- **catplot** (**categorica**): stripplot, swamplot, boxplot, violinplot, pointplot, barplot"
   ]
  },
  {
   "cell_type": "markdown",
   "metadata": {},
   "source": []
  }
 ],
 "metadata": {
  "kernelspec": {
   "display_name": "Python 3.10.4 ('dataSc')",
   "language": "python",
   "name": "python3"
  },
  "language_info": {
   "name": "python",
   "version": "3.10.4"
  },
  "orig_nbformat": 4,
  "vscode": {
   "interpreter": {
    "hash": "ff550ef0072d294ac07ec551f319c65541aa1806563e3b8e6de41ffa1fdac6bf"
   }
  }
 },
 "nbformat": 4,
 "nbformat_minor": 2
}
